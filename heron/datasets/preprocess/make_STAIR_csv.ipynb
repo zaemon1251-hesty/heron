{
 "cells": [
  {
   "cell_type": "code",
   "execution_count": 1,
   "id": "8a82402e-eea9-4227-8d08-4e4178895602",
   "metadata": {},
   "outputs": [],
   "source": [
    "import glob\n",
    "import json\n",
    "import os\n",
    "\n",
    "import numpy as np\n",
    "import pandas as pd\n",
    "import tqdm"
   ]
  },
  {
   "cell_type": "code",
   "execution_count": 2,
   "id": "4cf98eff-c7b9-4f6e-8c7f-781c52cf4378",
   "metadata": {},
   "outputs": [],
   "source": [
    "# Set path to STAIR data\n",
    "# Images are download from here: https://cocodataset.org/#download\n",
    "# Text data are download from here: https://github.com/STAIR-Lab-CIT/STAIR-captions\n",
    "# Download data at data/coco\n",
    "\n",
    "PATH_TO_COCO = os.path.abspath(\"../../../../data/coco\") + \"/\"\n",
    "PATH_TO_TRAIN_JSON = PATH_TO_COCO + \"stair_captions_v1.2_train.json\"\n",
    "PATH_TO_VAL_JSON = PATH_TO_COCO + \"stair_captions_v1.2_val.json\"\n",
    "\n",
    "# Add some pseudo question's text\n",
    "random_question_list = [\n",
    "    \"画像の内容を教えてください。\",\n",
    "    \"この画像を説明できますか？\",\n",
    "    \"画像に何が写っていますか？\",\n",
    "    \"画像の詳細を話してください。\",\n",
    "    \"画像に関する情報を共有して。\",\n",
    "    \"画像を解説してもらえますか？\",\n",
    "    \"この画像の主題は何ですか？\",\n",
    "    \"画像を簡潔に説明してください。\",\n",
    "    \"画像についての概要を教えて。\",\n",
    "    \"この画像に関する基本情報を話してください。\",\n",
    "    \"これは何の写真ですか？\",\n",
    "    \"写真には何が写っていますか？\",\n",
    "    \"写真について説明してください。\",\n",
    "    \"この写真はどういう状況ですか？説明してください。\",\n",
    "]"
   ]
  },
  {
   "cell_type": "markdown",
   "id": "c2578a80-db4a-4be4-b1ee-43f2c718ab7d",
   "metadata": {},
   "source": [
    "# STAIR / COCO"
   ]
  },
  {
   "cell_type": "code",
   "execution_count": 3,
   "id": "d3243048-4846-4ff2-8687-b6c80fc4796d",
   "metadata": {},
   "outputs": [],
   "source": [
    "with open(PATH_TO_TRAIN_JSON, 'r') as f:\n",
    "    coco_train = json.load(f)\n",
    "\n",
    "with open(PATH_TO_VAL_JSON, 'r') as f:\n",
    "    coco_val = json.load(f)"
   ]
  },
  {
   "cell_type": "code",
   "execution_count": 4,
   "id": "f6a23770-495b-4444-9665-825747b4d7c4",
   "metadata": {},
   "outputs": [],
   "source": [
    "# annotations to pandas DataFrame\n",
    "df_coco_train = pd.DataFrame(coco_train[\"annotations\"])\n",
    "df_coco_val = pd.DataFrame(coco_val[\"annotations\"])"
   ]
  },
  {
   "cell_type": "code",
   "execution_count": 5,
   "id": "7625e256-4cf0-44d7-9035-a70aef61525e",
   "metadata": {},
   "outputs": [
    {
     "name": "stderr",
     "output_type": "stream",
     "text": [
      "100%|████████████████████████████████████████████████████████████████████████████████████████████████████| 413915/413915 [00:35<00:00, 11705.96it/s]\n",
      "100%|████████████████████████████████████████████████████████████████████████████████████████████████████| 202520/202520 [00:17<00:00, 11630.47it/s]\n"
     ]
    },
    {
     "data": {
      "text/html": [
       "<div>\n",
       "<style scoped>\n",
       "    .dataframe tbody tr th:only-of-type {\n",
       "        vertical-align: middle;\n",
       "    }\n",
       "\n",
       "    .dataframe tbody tr th {\n",
       "        vertical-align: top;\n",
       "    }\n",
       "\n",
       "    .dataframe thead th {\n",
       "        text-align: right;\n",
       "    }\n",
       "</style>\n",
       "<table border=\"1\" class=\"dataframe\">\n",
       "  <thead>\n",
       "    <tr style=\"text-align: right;\">\n",
       "      <th></th>\n",
       "      <th>img_path</th>\n",
       "      <th>caption</th>\n",
       "      <th>question</th>\n",
       "    </tr>\n",
       "  </thead>\n",
       "  <tbody>\n",
       "    <tr>\n",
       "      <th>0</th>\n",
       "      <td>/home/y_inoue/coco/val2014/COCO_val2014_000000...</td>\n",
       "      <td>踏切の近くにワイナリーが開店している</td>\n",
       "      <td>写真について説明してください。</td>\n",
       "    </tr>\n",
       "    <tr>\n",
       "      <th>1</th>\n",
       "      <td>/home/y_inoue/coco/val2014/COCO_val2014_000000...</td>\n",
       "      <td>渋滞の中2人乗りのバイクが走っている</td>\n",
       "      <td>画像の内容を教えてください。</td>\n",
       "    </tr>\n",
       "    <tr>\n",
       "      <th>2</th>\n",
       "      <td>/home/y_inoue/coco/val2014/COCO_val2014_000000...</td>\n",
       "      <td>部屋の中に白い自転車が置いてある</td>\n",
       "      <td>画像の詳細を話してください。</td>\n",
       "    </tr>\n",
       "    <tr>\n",
       "      <th>3</th>\n",
       "      <td>/home/y_inoue/coco/val2014/COCO_val2014_000000...</td>\n",
       "      <td>街の道を白い馬車が走っている</td>\n",
       "      <td>これは何の写真ですか？</td>\n",
       "    </tr>\n",
       "    <tr>\n",
       "      <th>4</th>\n",
       "      <td>/home/y_inoue/coco/val2014/COCO_val2014_000000...</td>\n",
       "      <td>ビーチ近くの水際に鳥が羽を広げて停まっている</td>\n",
       "      <td>画像を解説してもらえますか？</td>\n",
       "    </tr>\n",
       "  </tbody>\n",
       "</table>\n",
       "</div>"
      ],
      "text/plain": [
       "                                            img_path                 caption  \\\n",
       "0  /home/y_inoue/coco/val2014/COCO_val2014_000000...      踏切の近くにワイナリーが開店している   \n",
       "1  /home/y_inoue/coco/val2014/COCO_val2014_000000...      渋滞の中2人乗りのバイクが走っている   \n",
       "2  /home/y_inoue/coco/val2014/COCO_val2014_000000...        部屋の中に白い自転車が置いてある   \n",
       "3  /home/y_inoue/coco/val2014/COCO_val2014_000000...          街の道を白い馬車が走っている   \n",
       "4  /home/y_inoue/coco/val2014/COCO_val2014_000000...  ビーチ近くの水際に鳥が羽を広げて停まっている   \n",
       "\n",
       "          question  \n",
       "0  写真について説明してください。  \n",
       "1   画像の内容を教えてください。  \n",
       "2   画像の詳細を話してください。  \n",
       "3      これは何の写真ですか？  \n",
       "4   画像を解説してもらえますか？  "
      ]
     },
     "execution_count": 5,
     "metadata": {},
     "output_type": "execute_result"
    }
   ],
   "source": [
    "for target, df_coco in [\n",
    "    [\"train\", df_coco_train],\n",
    "    [\"val\", df_coco_val]\n",
    "]:\n",
    "    img_path_list = []\n",
    "    caption_list = []\n",
    "    question_list = []\n",
    "\n",
    "    for i in tqdm.tqdm(range(len(df_coco))):\n",
    "        row = df_coco.iloc[i]\n",
    "        image_id = row.image_id\n",
    "        img_path = PATH_TO_COCO + f\"{target}2014/COCO_{target}2014_{image_id:012}.jpg\"\n",
    "        if os.path.exists(img_path):\n",
    "            img_path_list.append(img_path)\n",
    "            caption_list.append(row.caption)\n",
    "            q_index = np.random.randint(len(random_question_list))\n",
    "            question_list.append(random_question_list[q_index])\n",
    "        else:\n",
    "            print(f\"Fail path: {img_path}\")\n",
    "    \n",
    "    df = pd.DataFrame({\n",
    "        \"img_path\": img_path_list,\n",
    "        \"caption\": caption_list,\n",
    "        \"question\": question_list,\n",
    "    })\n",
    "    \n",
    "    df.to_csv(PATH_TO_COCO + f\"df_{target}.csv\", index=False)\n",
    "df.head()"
   ]
  },
  {
   "cell_type": "code",
   "execution_count": null,
   "id": "c8657132-6913-4a16-baa8-b34cfe49f8ec",
   "metadata": {},
   "outputs": [],
   "source": []
  }
 ],
 "metadata": {
  "kernelspec": {
   "display_name": "Python 3 (ipykernel)",
   "language": "python",
   "name": "python3"
  },
  "language_info": {
   "codemirror_mode": {
    "name": "ipython",
    "version": 3
   },
   "file_extension": ".py",
   "mimetype": "text/x-python",
   "name": "python",
   "nbconvert_exporter": "python",
   "pygments_lexer": "ipython3",
   "version": "3.10.12"
  }
 },
 "nbformat": 4,
 "nbformat_minor": 5
}

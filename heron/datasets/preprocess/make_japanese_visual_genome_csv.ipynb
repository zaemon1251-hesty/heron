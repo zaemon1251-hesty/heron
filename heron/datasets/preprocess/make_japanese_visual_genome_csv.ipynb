{
 "cells": [
  {
   "cell_type": "code",
   "execution_count": 1,
   "id": "8a82402e-eea9-4227-8d08-4e4178895602",
   "metadata": {},
   "outputs": [],
   "source": [
    "import glob\n",
    "import json\n",
    "import os\n",
    "\n",
    "import pandas as pd\n",
    "import tqdm"
   ]
  },
  {
   "cell_type": "code",
   "execution_count": 2,
   "id": "4cf98eff-c7b9-4f6e-8c7f-781c52cf4378",
   "metadata": {},
   "outputs": [],
   "source": [
    "# Set path to visual genome data\n",
    "# Images are download from here: https://homes.cs.washington.edu/~ranjay/visualgenome/api.html\n",
    "# Text data are download from here: https://github.com/yahoojapan/ja-vg-vqa\n",
    "# Download data at data/visual_genome_ja\n",
    "\n",
    "PATH_TO_VISUAL_GENOME = os.path.abspath(\"../../../../data/visual_genome_ja\") + \"/\""
   ]
  },
  {
   "attachments": {},
   "cell_type": "markdown",
   "id": "889eb7b5-d60d-4502-8603-56465ca7de0b",
   "metadata": {},
   "source": [
    "# Japanese Visual Genome"
   ]
  },
  {
   "cell_type": "code",
   "execution_count": 3,
   "id": "5b017be4-2400-4fbc-b275-bd5032922a5e",
   "metadata": {},
   "outputs": [],
   "source": [
    "with open(PATH_TO_VISUAL_GENOME + 'question_answers.json', 'r') as f:\n",
    "    v_g = json.load(f)"
   ]
  },
  {
   "cell_type": "code",
   "execution_count": 4,
   "id": "f9160aaf-bc19-4aea-8e32-76aafeb422f8",
   "metadata": {},
   "outputs": [],
   "source": [
    "# Extract question/answer pairs\n",
    "qas_list = []\n",
    "for data in v_g:\n",
    "    qas_list.extend(data[\"qas\"])\n",
    "d_vg = pd.DataFrame(qas_list)"
   ]
  },
  {
   "cell_type": "code",
   "execution_count": 5,
   "id": "6235d3e0-df32-4836-a6dd-75e0ad8e4535",
   "metadata": {},
   "outputs": [
    {
     "name": "stderr",
     "output_type": "stream",
     "text": [
      "100%|████████████████████████████████████████████████████████████████████████████████████████████████████| 793664/793664 [01:01<00:00, 12947.91it/s]\n"
     ]
    },
    {
     "data": {
      "text/html": [
       "<div>\n",
       "<style scoped>\n",
       "    .dataframe tbody tr th:only-of-type {\n",
       "        vertical-align: middle;\n",
       "    }\n",
       "\n",
       "    .dataframe tbody tr th {\n",
       "        vertical-align: top;\n",
       "    }\n",
       "\n",
       "    .dataframe thead th {\n",
       "        text-align: right;\n",
       "    }\n",
       "</style>\n",
       "<table border=\"1\" class=\"dataframe\">\n",
       "  <thead>\n",
       "    <tr style=\"text-align: right;\">\n",
       "      <th></th>\n",
       "      <th>img_path</th>\n",
       "      <th>caption</th>\n",
       "      <th>question</th>\n",
       "    </tr>\n",
       "  </thead>\n",
       "  <tbody>\n",
       "    <tr>\n",
       "      <th>0</th>\n",
       "      <td>/home/y_inoue/visual_genome_ja/VG_100K/2395966...</td>\n",
       "      <td>オレンジ色</td>\n",
       "      <td>バイクの車体の色はどんな色をしていますか？</td>\n",
       "    </tr>\n",
       "    <tr>\n",
       "      <th>1</th>\n",
       "      <td>/home/y_inoue/visual_genome_ja/VG_100K/2395966...</td>\n",
       "      <td>白色</td>\n",
       "      <td>バイクを固定している器具の色はどんな色をしていますか？</td>\n",
       "    </tr>\n",
       "    <tr>\n",
       "      <th>2</th>\n",
       "      <td>/home/y_inoue/visual_genome_ja/VG_100K/2395966...</td>\n",
       "      <td>黒色</td>\n",
       "      <td>バイクが置かれている床は何色ですか？</td>\n",
       "    </tr>\n",
       "    <tr>\n",
       "      <th>3</th>\n",
       "      <td>/home/y_inoue/visual_genome_ja/VG_100K/2395966...</td>\n",
       "      <td>緑色</td>\n",
       "      <td>バイクの右側の通路の床は何色ですか？</td>\n",
       "    </tr>\n",
       "    <tr>\n",
       "      <th>4</th>\n",
       "      <td>/home/y_inoue/visual_genome_ja/VG_100K/2395966...</td>\n",
       "      <td>5つ</td>\n",
       "      <td>バイクの左に落ちている箱側面に書かれたメニューはいくつですか？</td>\n",
       "    </tr>\n",
       "  </tbody>\n",
       "</table>\n",
       "</div>"
      ],
      "text/plain": [
       "                                            img_path caption  \\\n",
       "0  /home/y_inoue/visual_genome_ja/VG_100K/2395966...   オレンジ色   \n",
       "1  /home/y_inoue/visual_genome_ja/VG_100K/2395966...      白色   \n",
       "2  /home/y_inoue/visual_genome_ja/VG_100K/2395966...      黒色   \n",
       "3  /home/y_inoue/visual_genome_ja/VG_100K/2395966...      緑色   \n",
       "4  /home/y_inoue/visual_genome_ja/VG_100K/2395966...      5つ   \n",
       "\n",
       "                          question  \n",
       "0            バイクの車体の色はどんな色をしていますか？  \n",
       "1      バイクを固定している器具の色はどんな色をしていますか？  \n",
       "2               バイクが置かれている床は何色ですか？  \n",
       "3               バイクの右側の通路の床は何色ですか？  \n",
       "4  バイクの左に落ちている箱側面に書かれたメニューはいくつですか？  "
      ]
     },
     "execution_count": 5,
     "metadata": {},
     "output_type": "execute_result"
    }
   ],
   "source": [
    "img_path_list = []\n",
    "caption_list = []\n",
    "question_list = []\n",
    "\n",
    "for i in tqdm.tqdm(range(len(d_vg))):\n",
    "    row = d_vg.iloc[i]\n",
    "\n",
    "    image_id = row.image_id\n",
    "    img_path = PATH_TO_VISUAL_GENOME + f\"VG_100K/{image_id}.jpg\"\n",
    "\n",
    "    if os.path.exists(img_path):\n",
    "        img_path_list.append(img_path)\n",
    "        caption_list.append(row.answer)\n",
    "        question_list.append(row.question)\n",
    "    else:\n",
    "        print(f\"Fail path: {img_path}\")\n",
    "\n",
    "df = pd.DataFrame({\n",
    "    \"img_path\": img_path_list,\n",
    "    \"caption\": caption_list,\n",
    "    \"question\": question_list,\n",
    "})\n",
    "\n",
    "df.to_csv(PATH_TO_VISUAL_GENOME + f\"df_vg.csv\", index=False)\n",
    "df.head()"
   ]
  },
  {
   "cell_type": "code",
   "execution_count": null,
   "id": "5cb70772-220c-4cd8-a4a0-866eab65f987",
   "metadata": {},
   "outputs": [],
   "source": []
  }
 ],
 "metadata": {
  "kernelspec": {
   "display_name": "Python 3 (ipykernel)",
   "language": "python",
   "name": "python3"
  },
  "language_info": {
   "codemirror_mode": {
    "name": "ipython",
    "version": 3
   },
   "file_extension": ".py",
   "mimetype": "text/x-python",
   "name": "python",
   "nbconvert_exporter": "python",
   "pygments_lexer": "ipython3",
   "version": "3.10.12"
  }
 },
 "nbformat": 4,
 "nbformat_minor": 5
}
